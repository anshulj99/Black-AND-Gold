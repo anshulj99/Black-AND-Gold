{
  "nbformat": 4,
  "nbformat_minor": 0,
  "metadata": {
    "colab": {
      "name": "Pore Doublet Trapping model of Reservoir.ipynb",
      "provenance": [],
      "include_colab_link": true
    },
    "kernelspec": {
      "name": "python3",
      "display_name": "Python 3"
    }
  },
  "cells": [
    {
      "cell_type": "markdown",
      "metadata": {
        "id": "view-in-github",
        "colab_type": "text"
      },
      "source": [
        "<a href=\"https://colab.research.google.com/github/anshulj99/Black-AND-Gold/blob/main/Pore_Doublet_Trapping_model_of_Reservoir.ipynb\" target=\"_parent\"><img src=\"https://colab.research.google.com/assets/colab-badge.svg\" alt=\"Open In Colab\"/></a>"
      ]
    },
    {
      "cell_type": "markdown",
      "metadata": {
        "id": "zlY7Y6_gCZ2x"
      },
      "source": [
        "**Program to check if the oil is trapped or mobilized using Pore Doublet Model**\r\n",
        "\r\n",
        "Consider the oil displacement by water in a single pore of radius 10 micro meter at a velocity of 1 ft/D. The length of the pore is 0.02 in., the viscosity is 1 cp, and the IFT is 30 dynes/cm. The contact angle, θ, is zero.\r\n",
        "\r\n"
      ]
    },
    {
      "cell_type": "markdown",
      "metadata": {
        "id": "RqzM6g3dC-Mp"
      },
      "source": [
        "![2-71-pore-doublet-model-for-displacement-and-trapping-oil.png](data:image/png;base64,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)"
      ]
    },
    {
      "cell_type": "code",
      "metadata": {
        "id": "Um50IpYPCXga"
      },
      "source": [
        "import math\r\n",
        "import matplotlib.pyplot as plt"
      ],
      "execution_count": 5,
      "outputs": []
    },
    {
      "cell_type": "markdown",
      "metadata": {
        "id": "x2iM9z_nF1oG"
      },
      "source": [
        "Taking radius of second pore throat = 20 micrometer"
      ]
    },
    {
      "cell_type": "code",
      "metadata": {
        "colab": {
          "base_uri": "https://localhost:8080/"
        },
        "id": "OIQqhaEjDm4n",
        "outputId": "fb8c46c5-e262-46a4-e5d3-61abda5f5539"
      },
      "source": [
        "visc,length,vel1,rad1,rad2 = input(\"enter viscosity of the fluid, length of the pore, velocity of the fluid in pore1, radius of pore1 and pore2 in order: \").split(\",\")\r\n",
        "visc,length,vel1,rad1,rad2 = [ float(visc), float(length), float(vel1), float(rad1), float(rad2)]"
      ],
      "execution_count": 1,
      "outputs": [
        {
          "output_type": "stream",
          "text": [
            "enter viscosity of the fluid, length of the pore, velocity of the fluid in pore1, radius of pore1 and pore2 in order: 1,0.02,1,10,20\n"
          ],
          "name": "stdout"
        }
      ]
    },
    {
      "cell_type": "code",
      "metadata": {
        "colab": {
          "base_uri": "https://localhost:8080/"
        },
        "id": "K_APalVhDvme",
        "outputId": "2b03394e-7313-4f1a-d463-22fe28456613"
      },
      "source": [
        "IFT, cont_angle = input(\"enter the value of Interfacial Tension and the contact angle: \").split(\",\")\r\n",
        "IFT, cont_angle = [ float(IFT), float(cont_angle)]"
      ],
      "execution_count": 2,
      "outputs": [
        {
          "output_type": "stream",
          "text": [
            "enter the value of Interfacial Tension and the contact angle: 30,0\n"
          ],
          "name": "stdout"
        }
      ]
    },
    {
      "cell_type": "markdown",
      "metadata": {
        "id": "vO6kpREYGkk6"
      },
      "source": [
        "Using Hagen-Poiseuille's equation:"
      ]
    },
    {
      "cell_type": "markdown",
      "metadata": {
        "id": "sGecGWHWGDCu"
      },
      "source": [
        "Viscous pressure in Pore 1 [psi]  = (- 8 * viscosity * length_of_the_pore * velocity of liquid in pore 1) / (radius of pore 1) ^2"
      ]
    },
    {
      "cell_type": "code",
      "metadata": {
        "colab": {
          "base_uri": "https://localhost:8080/"
        },
        "id": "vn8aotXtEVSN",
        "outputId": "0a3d9451-cb84-4db5-9c44-17896345db71"
      },
      "source": [
        "Pv1 = -8 * visc * length * vel1 / (rad1**2)\r\n",
        "Pv1"
      ],
      "execution_count": 3,
      "outputs": [
        {
          "output_type": "execute_result",
          "data": {
            "text/plain": [
              "-0.0016"
            ]
          },
          "metadata": {
            "tags": []
          },
          "execution_count": 3
        }
      ]
    },
    {
      "cell_type": "markdown",
      "metadata": {
        "id": "SkG-ThusHNtD"
      },
      "source": [
        "Capillary Pressure = 2 * IFT * cos(theta)/ radius"
      ]
    },
    {
      "cell_type": "code",
      "metadata": {
        "colab": {
          "base_uri": "https://localhost:8080/"
        },
        "id": "OHsdHD6yElS1",
        "outputId": "016d6263-25fd-40af-d1ab-2dd8fb08b3a4"
      },
      "source": [
        "Pc1 = 2 * IFT * math.cos(cont_angle)/ rad1\r\n",
        "Pc1"
      ],
      "execution_count": 6,
      "outputs": [
        {
          "output_type": "execute_result",
          "data": {
            "text/plain": [
              "6.0"
            ]
          },
          "metadata": {
            "tags": []
          },
          "execution_count": 6
        }
      ]
    },
    {
      "cell_type": "markdown",
      "metadata": {
        "id": "NQZRCK5YHQeR"
      },
      "source": [
        "Total Pressure across AB (fig) = Viscous Pressure + Capillary pressure"
      ]
    },
    {
      "cell_type": "code",
      "metadata": {
        "colab": {
          "base_uri": "https://localhost:8080/"
        },
        "id": "h1sVFwLyEo89",
        "outputId": "5e9109eb-2ded-4e49-ba7d-4bf686d92720"
      },
      "source": [
        "Pab = Pv1 + Pc1\r\n",
        "Pab"
      ],
      "execution_count": 7,
      "outputs": [
        {
          "output_type": "execute_result",
          "data": {
            "text/plain": [
              "5.9984"
            ]
          },
          "metadata": {
            "tags": []
          },
          "execution_count": 7
        }
      ]
    },
    {
      "cell_type": "code",
      "metadata": {
        "colab": {
          "base_uri": "https://localhost:8080/"
        },
        "id": "CZC4qw75E0hU",
        "outputId": "aaf1aacb-b9f7-4add-f22b-527bef7e627f"
      },
      "source": [
        "Pc2 = 2 * IFT * math.cos(cont_angle)/ rad2\r\n",
        "Pc2"
      ],
      "execution_count": 8,
      "outputs": [
        {
          "output_type": "execute_result",
          "data": {
            "text/plain": [
              "3.0"
            ]
          },
          "metadata": {
            "tags": []
          },
          "execution_count": 8
        }
      ]
    },
    {
      "cell_type": "code",
      "metadata": {
        "id": "GjF1GERzFCx1"
      },
      "source": [
        "Pv2 = Pab - Pc2"
      ],
      "execution_count": 9,
      "outputs": []
    },
    {
      "cell_type": "code",
      "metadata": {
        "id": "tr4ZU8jHFIdc"
      },
      "source": [
        "vel2 = (- Pv2) * (rad2**2)/ (8 * visc * length)"
      ],
      "execution_count": 10,
      "outputs": []
    },
    {
      "cell_type": "code",
      "metadata": {
        "colab": {
          "base_uri": "https://localhost:8080/"
        },
        "id": "_UfbMSpeFMVE",
        "outputId": "9ff92eb4-71bb-4513-ac1e-b1acb8fb15a9"
      },
      "source": [
        "print(f\"The displacing velocity required in Pore 2 is {abs(vel2)} ft/D\")"
      ],
      "execution_count": 11,
      "outputs": [
        {
          "output_type": "stream",
          "text": [
            "The displacing velocity required in Pore 2 is 7496.000000000001 ft/D\n"
          ],
          "name": "stdout"
        }
      ]
    },
    {
      "cell_type": "code",
      "metadata": {
        "colab": {
          "base_uri": "https://localhost:8080/"
        },
        "id": "f4R-vRK0FXDb",
        "outputId": "218781c9-1eb5-4fe3-82c1-2fd0c4c4b7bb"
      },
      "source": [
        "if vel2 > 0:\r\n",
        "  print(\"Oil can be discplaced\")\r\n",
        "else:\r\n",
        "  print(\"Oil is trapped\")"
      ],
      "execution_count": 12,
      "outputs": [
        {
          "output_type": "stream",
          "text": [
            "Oil is trapped\n"
          ],
          "name": "stdout"
        }
      ]
    },
    {
      "cell_type": "code",
      "metadata": {
        "id": "1Gw0vjrrHc1q"
      },
      "source": [
        "radii2 = [10, 20, 40, 100, 1000]\r\n",
        "velocity = []\r\n",
        "for i in radii2:\r\n",
        "  Pcx = 2 * IFT * math.cos(cont_angle)/ i\r\n",
        "  Pvx = Pab - Pcx\r\n",
        "  velocity.append(( Pvx) * (i**2)/ (8 * visc * length))"
      ],
      "execution_count": 14,
      "outputs": []
    },
    {
      "cell_type": "code",
      "metadata": {
        "id": "-ArmV5DjjDoa",
        "outputId": "25ee3be7-0d2e-428b-f321-5f83536ada4e",
        "colab": {
          "base_uri": "https://localhost:8080/",
          "height": 329
        }
      },
      "source": [
        "plt.plot(radii2,velocity)\r\n",
        "plt.xlabel('radius of second pore (micro-meter)')\r\n",
        "plt.ylabel('velocity required to push the oil from the second pore (ft/D)')\r\n",
        "plt.show()  "
      ],
      "execution_count": 16,
      "outputs": [
        {
          "output_type": "display_data",
          "data": {
            "image/png": "[encoded data removed]",
            "text/plain": [
              "<Figure size 432x288 with 1 Axes>"
            ]
          },
          "metadata": {
            "tags": [],
            "needs_background": "light"
          }
        }
      ]
    },
    {
      "cell_type": "code",
      "metadata": {
        "id": "Okluz3vQjsDA"
      },
      "source": [
        ""
      ],
      "execution_count": null,
      "outputs": []
    }
  ]
}